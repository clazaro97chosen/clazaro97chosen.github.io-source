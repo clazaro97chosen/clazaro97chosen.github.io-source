{
 "cells": [
  {
   "cell_type": "markdown",
   "metadata": {},
   "source": [
    "# RELU, Sigmoid, and the Hyperbolic Tangent activation functions: \n",
    "\n",
    "\n",
    "<p><strong>Sigmoid functions</strong>: mostly used in in shallow networks , binary classification problems<br>\n",
    "    <li>Main advantages of the sigmoid functions - Being easy to understand (probability)</li>\n",
    "<br>\n",
    "<li>Sigmoid AF suffers major drawbacks which include sharp damp gradients during backpropagation from deeper hidden layers to the input layers, gradient saturation ( gradient/derivative value is very small. Consequently, after numerous iterations the weights get updated so slowly because the value of gradient is so much small), slow convergence and non-zero centred output thereby causing the gradient\n",
    "updates to propagate in different directions</li>\n",
    "\n",
    "\n",
    "<p><strong>Tanh function</strong>: became the preferred function compared to the sigmoid function in that it gives better training performance for multi-layer neural networks by remedy of drawbacks from sigmoid AF. However, the tanh function could not solve the vanishing gradient problem suffered by the sigmoid functions as well.\n",
    "    <br>\n",
    "    <li>The main advantage provided by the function is that it produces zero centred output thereby aiding the back-propagation process.</li></p>\n",
    "\n",
    "\n",
    "<p><h3>Finally the Rectified Linear Unit (ReLU) Function:</h3><br>It offers the better performance and generalization in deep learning compared to the Sigmoid and Tanh activation function.\n",
    "<br>\n",
    "    \n",
    "<h3>Advantages</h3>\n",
    "<li>The ReLU represents a nearly linear function and therefore preserves the properties of linear models that made them easy to optimize, with the gradient-descent method.</li>\n",
    "<br>\n",
    "<li> Eliminates the vanishing gradient problem by rectifying the values of the inputs less than zero and forcing them to zero.</li>\n",
    "    \n",
    "<li> Guarantee faster computation since it does not compute exponentials and divisions, with overall speed of computation enhanced</li>\n",
    "\n",
    "<h3>Limitations</h3>\n",
    "ReLU has alimitation that it easily overfits compared to the sigmoid function although the dropout technique has been adopted to reduce\n",
    "the effect of overfitting of ReLUs\n",
    "\n",
    "Sometimes fragile during training thereby causing some of the gradients to die. This leads to some neurons being dead as well, thereby causing the weight updates not to activate in future data points,\n",
    "thereby hindering learning as dead neurons gives zero activation. hink about the chain rule in the backward pass. If the derivative of the slope of the ReLU is of 0, absolutely no learning is performed on the layers below the dead ReLU, because 0 will be multiplied to the accumulated gradient for the weight update. \n",
    "\n",
    "<h3>Solution?</h3>\n",
    "To resolve the dead neuron issues, the leaky ReLU was\n",
    "proposed with a small negative slope to the ReLU\n",
    "to sustain and keep the weight updates alive during the entire propagation process.\n",
    "\n",
    "\n",
    "But, The LReLU has an identical result when compared to the standard ReLU. Perhaps because the ReLU can introduce a sort of “optimal brain damage” regularization in your machine learning algorithm thus avoiding overfitting and improving genrelaization.\n",
    "\n",
    "Activation Functions: Comparison of Trends in Practice and Research for Deep Learning[https://arxiv.org/pdf/1811.03378.pdf] <br>\n",
    "https://www.quora.com/What-are-the-advantages-of-using-Leaky-Rectified-Linear-Units-Leaky-ReLU-over-normal-ReLU-in-deep-learning"
   ]
  },
  {
   "cell_type": "markdown",
   "metadata": {},
   "source": [
    "# QUIZ"
   ]
  },
  {
   "cell_type": "markdown",
   "metadata": {},
   "source": [
    "<div class=\"solution_panel closed\">\n",
    "    <div class=\"solution_title\">\n",
    "        <p class=\"solution_title_string\">QUIZ QUESTION 1: What are the advantages of the ReLU activation functions</p>\n",
    "        <ul class=\"nav navbar-right panel_toolbox\">\n",
    "            <li><a class=\"collapse-link\"><i class=\"fa fa-chevron-down\"></i></a></li>\n",
    "        </ul>\n",
    "    <div class=\"clearfix\"></div>\n",
    "    </div>\n",
    "    <div class=\"solution_content\">\n",
    "        <pre>\n",
    "            <!--<code class=\"language-python\">  </code>-->\n",
    "                The ReLU represents a nearly linear function and therefore preserves the properties of linear models that made them easy to optimize, with the gradient-descent method.\n",
    "Eliminates the vanishing gradient problem by rectifying the values of the inputs less than zero and forcing them to zero.\n",
    "Guarantee faster computation since it does not compute exponentials and divisions, with overall speed of computation enhanced\n",
    "            </code>\n",
    "        </pre>\n",
    "    </div>\n",
    "</div>"
   ]
  },
  {
   "cell_type": "markdown",
   "metadata": {},
   "source": [
    "```Dockerfile\n",
    "\n",
    "# Use an official Python runtime as an image\n",
    "FROM python:3.6\n",
    "\n",
    "# The EXPOSE instruction indicates the ports on which a container \n",
    "# will listen for connections\n",
    "# Since Flask apps listen to port 5000  by default, we expose it\n",
    "EXPOSE 5000\n",
    "\n",
    "````"
   ]
  },
  {
   "cell_type": "markdown",
   "metadata": {},
   "source": [
    "```python\n",
    "\n",
    "def hello():\n",
    "    print(\"hello world\")\n",
    "    \n",
    "\n",
    "```"
   ]
  },
  {
   "cell_type": "code",
   "execution_count": null,
   "metadata": {},
   "outputs": [],
   "source": []
  }
 ],
 "metadata": {
  "kernelspec": {
   "display_name": "Python 3.8.2 64-bit ('blog': conda)",
   "language": "python",
   "name": "python38264bitblogconda4d4312a49f604ba9ada5bf8ae5fad868"
  },
  "language_info": {
   "codemirror_mode": {
    "name": "ipython",
    "version": 3
   },
   "file_extension": ".py",
   "mimetype": "text/x-python",
   "name": "python",
   "nbconvert_exporter": "python",
   "pygments_lexer": "ipython3",
   "version": "3.8.2"
  }
 },
 "nbformat": 4,
 "nbformat_minor": 4
}
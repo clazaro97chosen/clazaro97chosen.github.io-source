{
 "cells": [
  {
   "cell_type": "markdown",
   "source": [
    "In this dashboard a team coach can have a view of the relationship between a select number of wellness variables and gps variables. The goal is to present the effect these variables have on each other. Using this historical data a team coach can view how an individual player deviates from his team or from his position.  Allowing that coach to better modify a player's training plan to his level of recovery. For example, if the Soreness experienced for a player after X number of Accelerations is lower than his positions average, the coach can decide that this player generally recovers better, and could potentially be undertraining. This dashboard also allows the coach to understand which individuals cannot get away with less sleep than others as they experience higher RPE's, and could potentially be taxing the nervous system more."
   ],
   "metadata": {}
  },
  {
   "cell_type": "markdown",
   "source": [
    "<iframe seamless frameborder=\"0\" src=\"https://public.tableau.com/app/profile/cristian.t.lazaro/viz/GPSandWellnessRelationships/Dashboard1?:embed=yes&:display_count=yes&:showVizHome=no\" width = '1000' height = '800' scrolling='yes' ></iframe>  "
   ],
   "metadata": {}
  },
  {
   "cell_type": "markdown",
   "source": [],
   "metadata": {}
  }
 ],
 "metadata": {
  "orig_nbformat": 4,
  "language_info": {
   "name": "python"
  }
 },
 "nbformat": 4,
 "nbformat_minor": 2
}